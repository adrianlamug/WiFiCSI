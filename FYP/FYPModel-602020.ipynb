{
 "cells": [
  {
   "cell_type": "code",
   "execution_count": 2,
   "id": "ec7063f8",
   "metadata": {},
   "outputs": [],
   "source": [
    "from decoders.interleaved import read_pcap\n",
    "from utils.matlab import db\n",
    "from tensorflow.keras import Model\n",
    "from tensorflow.keras import Input\n",
    "from tensorflow.keras.layers import Rescaling\n",
    "from tensorflow.keras.layers import Dropout\n",
    "from tensorflow.keras.layers import Dense\n",
    "from tensorflow.keras.layers import Conv1D\n",
    "from tensorflow.keras.layers import MaxPooling1D\n",
    "from tensorflow.keras.layers import Flatten\n",
    "from tensorflow.keras.layers import LSTM\n",
    "from tensorflow.keras.layers import GlobalAveragePooling1D\n",
    "from tensorflow.keras.models import Sequential\n",
    "from tensorflow.keras.layers import LayerNormalization\n",
    "from tensorflow.keras.layers import MultiHeadAttention\n",
    "import glob\n",
    "from numpy import inf\n",
    "from tensorflow.keras.layers import Bidirectional\n",
    "import pandas as pd\n",
    "import numpy as np\n",
    "from tensorflow.keras.optimizers import RMSprop, Adam\n",
    "from tensorflow.keras.callbacks import EarlyStopping\n",
    "import os\n",
    "import matplotlib.pyplot as plt\n",
    "from sklearn.metrics import confusion_matrix, classification_report\n",
    "from sklearn.model_selection import train_test_split, StratifiedKFold\n",
    "\n",
    "from scipy.interpolate import interp1d"
   ]
  },
  {
   "cell_type": "code",
   "execution_count": 36,
   "id": "250459f3",
   "metadata": {},
   "outputs": [],
   "source": [
    "import seaborn "
   ]
  },
  {
   "cell_type": "code",
   "execution_count": 26,
   "id": "b421b24c",
   "metadata": {},
   "outputs": [],
   "source": [
    "# from transformers import BertModel, BertConfig"
   ]
  },
  {
   "cell_type": "code",
   "execution_count": 3,
   "id": "b7a521ed",
   "metadata": {},
   "outputs": [],
   "source": [
    "base_dir = \".\"\n",
    "dataset_dir = os.path.join(\"data\")\n",
    "test_dir = os.path.join(\"generated/data\")"
   ]
  },
  {
   "cell_type": "code",
   "execution_count": 4,
   "id": "825233cc",
   "metadata": {},
   "outputs": [],
   "source": [
    "FS = 100\n",
    "ALL_ACTIVITIES = [\"static\", \"standing\", \"walking\", \"falling\"]\n",
    "# ALL_ACTIVITIES = [\"nothing\", \"standup\", \"sitdown\", \"getintobed\", \"cook\", \"washingdishes\", \"brushteeth\", \"drink\", \"petcat\", \"sleeping\", \"walk\"]"
   ]
  },
  {
   "cell_type": "code",
   "execution_count": 5,
   "id": "f082136b",
   "metadata": {},
   "outputs": [],
   "source": [
    "def loadFromDat(inputFile, windowSize = FS, step = 50):\n",
    "#     print(int((csi_data.nsamples-1)*(100/average_sample_rate)+1))\n",
    "    \n",
    "    csi_data = read_pcap(inputFile)\n",
    "    csi = csi_data.csi\n",
    "    \n",
    "    first_timestamp = float(csi_data.timestamps[0])\n",
    "    last_timestamp = float(csi_data.timestamps[-1])\n",
    "    final_timestamp = last_timestamp-first_timestamp\n",
    "    average_sample_rate = csi_data.nsamples/final_timestamp\n",
    "    \n",
    "    interp_func=interp1d(csi_data.timestamps, csi_data.csi, kind='linear', axis=0, fill_value=\"extrapolate\")\n",
    "    t_new = np.linspace(first_timestamp, last_timestamp, (csi_data.nsamples-1)*int((100/average_sample_rate)+1))\n",
    "    csi_interp = interp_func(t_new)\n",
    "    csi=csi_interp\n",
    "    \n",
    "    csi = db(np.abs(csi))\n",
    "    finalData = csi[:, :, 0]\n",
    "    finalData = np.transpose(finalData)\n",
    "    \n",
    "#     cutoff_frequency = 30  # in Hz, adjust based on your analysis\n",
    "#     sampling_frequency = 100  # in Hz\n",
    "\n",
    "#     # Apply the filter to your dataset\n",
    "#     filtered_data = np.apply_along_axis(\n",
    "#         lowpass_filter,\n",
    "#         axis=1,\n",
    "#         arr=finalData,\n",
    "#         cutoff=cutoff_frequency,\n",
    "#         fs=sampling_frequency\n",
    "#     )\n",
    "    \n",
    "    new_average_sample_rate = len(csi_interp)/final_timestamp\n",
    "    \n",
    "    if new_average_sample_rate > FS:\n",
    "        downsample_factor = int(new_average_sample_rate/FS)\n",
    "        csi = csi[::downsample_factor]\n",
    "    index = 0\n",
    "    positiveInput = []\n",
    "    \n",
    "    while index + windowSize <= csi.shape[0]:\n",
    "        curFeature = np.zeros((1, windowSize, 256))\n",
    "        curFeature[0] = csi[index:index+windowSize, :].reshape(FS,256)\n",
    "        positiveInput.append(curFeature)\n",
    "        index += step\n",
    "    try:\n",
    "        positiveInput = np.concatenate(positiveInput, axis = 0)\n",
    "    except ValueError as e:\n",
    "        positiveInput = np.zeros((1, windowSize, 256))\n",
    "    positiveInput[positiveInput == -inf] = 0\n",
    "    \n",
    "    return positiveInput"
   ]
  },
  {
   "cell_type": "code",
   "execution_count": null,
   "id": "e4ed9a76",
   "metadata": {},
   "outputs": [],
   "source": [
    "# from scipy import signal\n",
    "# from scipy.signal import butter, filtfilt\n",
    "\n",
    "# def butter_lowpass(cutoff, fs, order=5):\n",
    "#     nyq = 0.5 * fs\n",
    "#     normal_cutoff = cutoff / nyq\n",
    "#     b, a = butter(order, normal_cutoff, btype='low', analog=False)\n",
    "#     return b, a\n",
    "\n",
    "# # Apply the low-pass filter to the data\n",
    "# def lowpass_filter(data, cutoff, fs, order=5):\n",
    "#     b, a = butter_lowpass(cutoff, fs, order=order)\n",
    "#     filtered_data = filtfilt(b, a, data)\n",
    "#     return filtered_data"
   ]
  },
  {
   "cell_type": "code",
   "execution_count": 6,
   "id": "c9c1c688",
   "metadata": {},
   "outputs": [],
   "source": [
    "def loadByActivityLabel(directory, activity, activities=ALL_ACTIVITIES, windowSize=FS, step = 50, downsample=1):\n",
    "    activity = activity.lower()\n",
    "    print(activity)\n",
    "    if activity not in activities:\n",
    "        print(\"invalid activity: \" + activity)\n",
    "    \n",
    "    dataPathPattern = os.path.join(directory,\"{}*.pcap\".format(activity))\n",
    "    inputFiles = sorted(glob.glob(dataPathPattern, recursive =True))\n",
    "    inputWindows = []\n",
    "    index = 0\n",
    "    for inputFile in inputFiles:\n",
    "        index += 1\n",
    "        csiOutput = loadFromDat(inputFile, windowSize = windowSize, step=step)\n",
    "        if csiOutput is not None:\n",
    "            inputWindows.append(csiOutput)\n",
    "    inputArray = np.concatenate(inputWindows, axis = 0)\n",
    "    outputLabels = np.zeros((inputArray.shape[0], len(activities)))\n",
    "    outputLabels[:, activities.index(activity)] = 1\n",
    "    return inputArray, outputLabels\n"
   ]
  },
  {
   "cell_type": "code",
   "execution_count": 7,
   "id": "28f356e0",
   "metadata": {},
   "outputs": [],
   "source": [
    "def loadDataForActivities(directory, activities=ALL_ACTIVITIES, windowSize=FS, step=50, downsample=1):\n",
    "    x_all = []\n",
    "    y_all = []\n",
    "    for activity in activities:\n",
    "        inputArray, outputLabels = loadByActivityLabel(directory, activity, activities, windowSize=windowSize, step=step, downsample=downsample)\n",
    "        x_all.append(inputArray)\n",
    "        y_all.append(outputLabels)\n",
    "    x_all = np.concatenate(x_all, axis=0)\n",
    "    y_all = np.concatenate(y_all, axis=0)\n",
    "    return (x_all, y_all)"
   ]
  },
  {
   "cell_type": "code",
   "execution_count": 8,
   "id": "bb38762c",
   "metadata": {},
   "outputs": [
    {
     "name": "stdout",
     "output_type": "stream",
     "text": [
      "static\n",
      "standing\n",
      "walking\n",
      "falling\n"
     ]
    }
   ],
   "source": [
    "x_all, y_all = loadDataForActivities(dataset_dir, downsample=1)"
   ]
  },
  {
   "cell_type": "code",
   "execution_count": 14,
   "id": "c98a4d1b",
   "metadata": {},
   "outputs": [],
   "source": [
    "# Split off the test set: 20% of the dataset.\n",
    "x_dev, x_test, y_dev, y_test = train_test_split(x_all, y_all, stratify=y_all, train_size=0.8, random_state=42)\n",
    "\n",
    "# Split the temporary set into validation and test sets (50% validation, 50% test)\n",
    "x_train, x_val, y_train, y_val = train_test_split(x_dev, y_dev, stratify=y_dev, train_size=0.75, random_state=42)"
   ]
  },
  {
   "cell_type": "code",
   "execution_count": 15,
   "id": "2e0c9bb8",
   "metadata": {},
   "outputs": [],
   "source": [
    "batch_size = 256\n",
    "epochs = 100\n",
    "\n",
    "f1s = []\n",
    "confs = []\n",
    "y_val_total = np.array([])\n",
    "y_pred_total = np.array([])"
   ]
  },
  {
   "cell_type": "markdown",
   "id": "a8ac2283",
   "metadata": {},
   "source": [
    "<h1> Models </h1>"
   ]
  },
  {
   "cell_type": "code",
   "execution_count": null,
   "id": "0936fc45",
   "metadata": {},
   "outputs": [],
   "source": [
    "# Transformer Model"
   ]
  },
  {
   "cell_type": "code",
   "execution_count": 16,
   "id": "884430f3",
   "metadata": {},
   "outputs": [
    {
     "name": "stdout",
     "output_type": "stream",
     "text": [
      "Model: \"model_1\"\n",
      "__________________________________________________________________________________________________\n",
      " Layer (type)                   Output Shape         Param #     Connected to                     \n",
      "==================================================================================================\n",
      " input_2 (InputLayer)           [(None, 100, 256)]   0           []                               \n",
      "                                                                                                  \n",
      " conv1d_10 (Conv1D)             (None, 98, 128)      98432       ['input_2[0][0]']                \n",
      "                                                                                                  \n",
      " conv1d_11 (Conv1D)             (None, 96, 128)      49280       ['conv1d_10[0][0]']              \n",
      "                                                                                                  \n",
      " max_pooling1d_1 (MaxPooling1D)  (None, 48, 128)     0           ['conv1d_11[0][0]']              \n",
      "                                                                                                  \n",
      " multi_head_attention_4 (MultiH  (None, 48, 128)     1054848     ['max_pooling1d_1[0][0]',        \n",
      " eadAttention)                                                    'max_pooling1d_1[0][0]']        \n",
      "                                                                                                  \n",
      " dropout_9 (Dropout)            (None, 48, 128)      0           ['multi_head_attention_4[0][0]'] \n",
      "                                                                                                  \n",
      " layer_normalization_8 (LayerNo  (None, 48, 128)     256         ['dropout_9[0][0]']              \n",
      " rmalization)                                                                                     \n",
      "                                                                                                  \n",
      " tf.__operators__.add_8 (TFOpLa  (None, 48, 128)     0           ['layer_normalization_8[0][0]',  \n",
      " mbda)                                                            'max_pooling1d_1[0][0]']        \n",
      "                                                                                                  \n",
      " conv1d_12 (Conv1D)             (None, 48, 256)      98560       ['tf.__operators__.add_8[0][0]'] \n",
      "                                                                                                  \n",
      " dropout_10 (Dropout)           (None, 48, 256)      0           ['conv1d_12[0][0]']              \n",
      "                                                                                                  \n",
      " conv1d_13 (Conv1D)             (None, 48, 128)      98432       ['dropout_10[0][0]']             \n",
      "                                                                                                  \n",
      " layer_normalization_9 (LayerNo  (None, 48, 128)     256         ['conv1d_13[0][0]']              \n",
      " rmalization)                                                                                     \n",
      "                                                                                                  \n",
      " tf.__operators__.add_9 (TFOpLa  (None, 48, 128)     0           ['layer_normalization_9[0][0]',  \n",
      " mbda)                                                            'tf.__operators__.add_8[0][0]'] \n",
      "                                                                                                  \n",
      " multi_head_attention_5 (MultiH  (None, 48, 128)     1054848     ['tf.__operators__.add_9[0][0]', \n",
      " eadAttention)                                                    'tf.__operators__.add_9[0][0]'] \n",
      "                                                                                                  \n",
      " dropout_11 (Dropout)           (None, 48, 128)      0           ['multi_head_attention_5[0][0]'] \n",
      "                                                                                                  \n",
      " layer_normalization_10 (LayerN  (None, 48, 128)     256         ['dropout_11[0][0]']             \n",
      " ormalization)                                                                                    \n",
      "                                                                                                  \n",
      " tf.__operators__.add_10 (TFOpL  (None, 48, 128)     0           ['layer_normalization_10[0][0]', \n",
      " ambda)                                                           'tf.__operators__.add_9[0][0]'] \n",
      "                                                                                                  \n",
      " conv1d_14 (Conv1D)             (None, 48, 256)      98560       ['tf.__operators__.add_10[0][0]']\n",
      "                                                                                                  \n",
      " dropout_12 (Dropout)           (None, 48, 256)      0           ['conv1d_14[0][0]']              \n",
      "                                                                                                  \n",
      " conv1d_15 (Conv1D)             (None, 48, 128)      98432       ['dropout_12[0][0]']             \n",
      "                                                                                                  \n",
      " layer_normalization_11 (LayerN  (None, 48, 128)     256         ['conv1d_15[0][0]']              \n",
      " ormalization)                                                                                    \n",
      "                                                                                                  \n",
      " tf.__operators__.add_11 (TFOpL  (None, 48, 128)     0           ['layer_normalization_11[0][0]', \n",
      " ambda)                                                           'tf.__operators__.add_10[0][0]']\n",
      "                                                                                                  \n",
      " multi_head_attention_6 (MultiH  (None, 48, 128)     1054848     ['tf.__operators__.add_11[0][0]',\n",
      " eadAttention)                                                    'tf.__operators__.add_11[0][0]']\n",
      "                                                                                                  \n",
      " dropout_13 (Dropout)           (None, 48, 128)      0           ['multi_head_attention_6[0][0]'] \n",
      "                                                                                                  \n",
      " layer_normalization_12 (LayerN  (None, 48, 128)     256         ['dropout_13[0][0]']             \n",
      " ormalization)                                                                                    \n",
      "                                                                                                  \n",
      " tf.__operators__.add_12 (TFOpL  (None, 48, 128)     0           ['layer_normalization_12[0][0]', \n",
      " ambda)                                                           'tf.__operators__.add_11[0][0]']\n",
      "                                                                                                  \n",
      " conv1d_16 (Conv1D)             (None, 48, 256)      98560       ['tf.__operators__.add_12[0][0]']\n",
      "                                                                                                  \n",
      " dropout_14 (Dropout)           (None, 48, 256)      0           ['conv1d_16[0][0]']              \n",
      "                                                                                                  \n",
      " conv1d_17 (Conv1D)             (None, 48, 128)      98432       ['dropout_14[0][0]']             \n",
      "                                                                                                  \n",
      " layer_normalization_13 (LayerN  (None, 48, 128)     256         ['conv1d_17[0][0]']              \n",
      " ormalization)                                                                                    \n",
      "                                                                                                  \n",
      " tf.__operators__.add_13 (TFOpL  (None, 48, 128)     0           ['layer_normalization_13[0][0]', \n",
      " ambda)                                                           'tf.__operators__.add_12[0][0]']\n",
      "                                                                                                  \n",
      " multi_head_attention_7 (MultiH  (None, 48, 128)     1054848     ['tf.__operators__.add_13[0][0]',\n",
      " eadAttention)                                                    'tf.__operators__.add_13[0][0]']\n",
      "                                                                                                  \n"
     ]
    },
    {
     "name": "stdout",
     "output_type": "stream",
     "text": [
      " dropout_15 (Dropout)           (None, 48, 128)      0           ['multi_head_attention_7[0][0]'] \n",
      "                                                                                                  \n",
      " layer_normalization_14 (LayerN  (None, 48, 128)     256         ['dropout_15[0][0]']             \n",
      " ormalization)                                                                                    \n",
      "                                                                                                  \n",
      " tf.__operators__.add_14 (TFOpL  (None, 48, 128)     0           ['layer_normalization_14[0][0]', \n",
      " ambda)                                                           'tf.__operators__.add_13[0][0]']\n",
      "                                                                                                  \n",
      " conv1d_18 (Conv1D)             (None, 48, 256)      98560       ['tf.__operators__.add_14[0][0]']\n",
      "                                                                                                  \n",
      " dropout_16 (Dropout)           (None, 48, 256)      0           ['conv1d_18[0][0]']              \n",
      "                                                                                                  \n",
      " conv1d_19 (Conv1D)             (None, 48, 128)      98432       ['dropout_16[0][0]']             \n",
      "                                                                                                  \n",
      " layer_normalization_15 (LayerN  (None, 48, 128)     256         ['conv1d_19[0][0]']              \n",
      " ormalization)                                                                                    \n",
      "                                                                                                  \n",
      " tf.__operators__.add_15 (TFOpL  (None, 48, 128)     0           ['layer_normalization_15[0][0]', \n",
      " ambda)                                                           'tf.__operators__.add_14[0][0]']\n",
      "                                                                                                  \n",
      " global_average_pooling1d_1 (Gl  (None, 48)          0           ['tf.__operators__.add_15[0][0]']\n",
      " obalAveragePooling1D)                                                                            \n",
      "                                                                                                  \n",
      " dense_2 (Dense)                (None, 128)          6272        ['global_average_pooling1d_1[0][0\n",
      "                                                                 ]']                              \n",
      "                                                                                                  \n",
      " dropout_17 (Dropout)           (None, 128)          0           ['dense_2[0][0]']                \n",
      "                                                                                                  \n",
      " dense_3 (Dense)                (None, 4)            516         ['dropout_17[0][0]']             \n",
      "                                                                                                  \n",
      "==================================================================================================\n",
      "Total params: 5,163,908\n",
      "Trainable params: 5,163,908\n",
      "Non-trainable params: 0\n",
      "__________________________________________________________________________________________________\n",
      "Epoch 1/200\n",
      "16/16 [==============================] - 58s 3s/step - loss: 8.2863 - categorical_accuracy: 0.2260 - val_loss: 2.1356 - val_categorical_accuracy: 0.1691\n",
      "Epoch 2/200\n",
      "16/16 [==============================] - 46s 3s/step - loss: 1.9292 - categorical_accuracy: 0.2250 - val_loss: 1.3701 - val_categorical_accuracy: 0.1840\n",
      "Epoch 3/200\n",
      "16/16 [==============================] - 45s 3s/step - loss: 1.3809 - categorical_accuracy: 0.2418 - val_loss: 1.3552 - val_categorical_accuracy: 0.2938\n",
      "Epoch 4/200\n",
      "16/16 [==============================] - 46s 3s/step - loss: 1.3548 - categorical_accuracy: 0.2825 - val_loss: 1.3251 - val_categorical_accuracy: 0.3086\n",
      "Epoch 5/200\n",
      "16/16 [==============================] - 46s 3s/step - loss: 1.3443 - categorical_accuracy: 0.3162 - val_loss: 1.3134 - val_categorical_accuracy: 0.4125\n",
      "Epoch 6/200\n",
      "16/16 [==============================] - 45s 3s/step - loss: 1.3202 - categorical_accuracy: 0.3499 - val_loss: 1.3026 - val_categorical_accuracy: 0.4748\n",
      "Epoch 7/200\n",
      "16/16 [==============================] - 45s 3s/step - loss: 1.3066 - categorical_accuracy: 0.4133 - val_loss: 1.2808 - val_categorical_accuracy: 0.5163\n",
      "Epoch 8/200\n",
      "16/16 [==============================] - 45s 3s/step - loss: 1.2932 - categorical_accuracy: 0.4529 - val_loss: 1.2579 - val_categorical_accuracy: 0.5579\n",
      "Epoch 9/200\n",
      "16/16 [==============================] - 44s 3s/step - loss: 1.2550 - categorical_accuracy: 0.4777 - val_loss: 1.2224 - val_categorical_accuracy: 0.5163\n",
      "Epoch 10/200\n",
      "16/16 [==============================] - 45s 3s/step - loss: 1.2364 - categorical_accuracy: 0.4916 - val_loss: 1.1891 - val_categorical_accuracy: 0.5252\n",
      "Epoch 11/200\n",
      "16/16 [==============================] - 45s 3s/step - loss: 1.1897 - categorical_accuracy: 0.5005 - val_loss: 1.1377 - val_categorical_accuracy: 0.5074\n",
      "Epoch 12/200\n",
      "16/16 [==============================] - 42s 3s/step - loss: 1.1510 - categorical_accuracy: 0.4936 - val_loss: 1.0898 - val_categorical_accuracy: 0.5045\n",
      "Epoch 13/200\n",
      "16/16 [==============================] - 42s 3s/step - loss: 1.1107 - categorical_accuracy: 0.4777 - val_loss: 1.0434 - val_categorical_accuracy: 0.5074\n",
      "Epoch 14/200\n",
      "16/16 [==============================] - 42s 3s/step - loss: 1.0678 - categorical_accuracy: 0.5154 - val_loss: 0.9977 - val_categorical_accuracy: 0.4985\n",
      "Epoch 15/200\n",
      "16/16 [==============================] - 43s 3s/step - loss: 1.0440 - categorical_accuracy: 0.5025 - val_loss: 0.9679 - val_categorical_accuracy: 0.5015\n",
      "Epoch 16/200\n",
      "16/16 [==============================] - 42s 3s/step - loss: 1.0033 - categorical_accuracy: 0.5074 - val_loss: 0.9655 - val_categorical_accuracy: 0.5312\n",
      "Epoch 17/200\n",
      "16/16 [==============================] - 43s 3s/step - loss: 1.0165 - categorical_accuracy: 0.4718 - val_loss: 0.9432 - val_categorical_accuracy: 0.5104\n",
      "Epoch 18/200\n",
      "16/16 [==============================] - 41s 3s/step - loss: 0.9657 - categorical_accuracy: 0.5273 - val_loss: 0.9206 - val_categorical_accuracy: 0.5104\n",
      "Epoch 19/200\n",
      "16/16 [==============================] - 607s 40s/step - loss: 0.9490 - categorical_accuracy: 0.5193 - val_loss: 0.8992 - val_categorical_accuracy: 0.5045\n",
      "Epoch 20/200\n",
      "16/16 [==============================] - 41s 3s/step - loss: 0.9488 - categorical_accuracy: 0.5223 - val_loss: 0.8990 - val_categorical_accuracy: 0.5045\n",
      "Epoch 21/200\n",
      "16/16 [==============================] - 41s 3s/step - loss: 0.9266 - categorical_accuracy: 0.5382 - val_loss: 0.8767 - val_categorical_accuracy: 0.5074\n",
      "Epoch 22/200\n",
      "16/16 [==============================] - 40s 3s/step - loss: 0.9277 - categorical_accuracy: 0.5302 - val_loss: 1.1267 - val_categorical_accuracy: 0.3976\n",
      "Epoch 23/200\n",
      "16/16 [==============================] - 41s 3s/step - loss: 0.9568 - categorical_accuracy: 0.5144 - val_loss: 0.8968 - val_categorical_accuracy: 0.5045\n",
      "Epoch 24/200\n",
      "16/16 [==============================] - 40s 3s/step - loss: 0.9309 - categorical_accuracy: 0.5352 - val_loss: 0.8748 - val_categorical_accuracy: 0.5134\n",
      "Epoch 25/200\n",
      "16/16 [==============================] - 41s 3s/step - loss: 0.9050 - categorical_accuracy: 0.5372 - val_loss: 0.8761 - val_categorical_accuracy: 0.5668\n",
      "Epoch 26/200\n",
      "16/16 [==============================] - 43s 3s/step - loss: 0.9067 - categorical_accuracy: 0.5629 - val_loss: 0.8510 - val_categorical_accuracy: 0.6083\n",
      "Epoch 27/200\n",
      "16/16 [==============================] - 43s 3s/step - loss: 0.8888 - categorical_accuracy: 0.5738 - val_loss: 0.8321 - val_categorical_accuracy: 0.5816\n",
      "Epoch 28/200\n",
      "16/16 [==============================] - 42s 3s/step - loss: 0.8701 - categorical_accuracy: 0.5966 - val_loss: 0.8250 - val_categorical_accuracy: 0.6736\n",
      "Epoch 29/200\n",
      "16/16 [==============================] - 43s 3s/step - loss: 0.8615 - categorical_accuracy: 0.5946 - val_loss: 0.7999 - val_categorical_accuracy: 0.6320\n",
      "Epoch 30/200\n",
      "16/16 [==============================] - 44s 3s/step - loss: 0.8565 - categorical_accuracy: 0.6184 - val_loss: 0.7926 - val_categorical_accuracy: 0.6499\n"
     ]
    },
    {
     "name": "stdout",
     "output_type": "stream",
     "text": [
      "Epoch 31/200\n",
      "16/16 [==============================] - 44s 3s/step - loss: 0.8411 - categorical_accuracy: 0.6412 - val_loss: 0.7812 - val_categorical_accuracy: 0.6261\n",
      "Epoch 32/200\n",
      "16/16 [==============================] - 44s 3s/step - loss: 0.8570 - categorical_accuracy: 0.6105 - val_loss: 0.8705 - val_categorical_accuracy: 0.5015\n",
      "Epoch 33/200\n",
      "16/16 [==============================] - 46s 3s/step - loss: 0.8808 - categorical_accuracy: 0.5887 - val_loss: 0.8017 - val_categorical_accuracy: 0.6261\n",
      "Epoch 34/200\n",
      "16/16 [==============================] - 42s 3s/step - loss: 0.8118 - categorical_accuracy: 0.6531 - val_loss: 0.7664 - val_categorical_accuracy: 0.7448\n",
      "Epoch 35/200\n",
      "16/16 [==============================] - 42s 3s/step - loss: 0.8012 - categorical_accuracy: 0.6759 - val_loss: 0.7458 - val_categorical_accuracy: 0.7834\n",
      "Epoch 36/200\n",
      "16/16 [==============================] - 42s 3s/step - loss: 0.8032 - categorical_accuracy: 0.6908 - val_loss: 0.7943 - val_categorical_accuracy: 0.5045\n",
      "Epoch 37/200\n",
      "16/16 [==============================] - 42s 3s/step - loss: 0.8062 - categorical_accuracy: 0.6838 - val_loss: 0.7574 - val_categorical_accuracy: 0.8012\n",
      "Epoch 38/200\n",
      "16/16 [==============================] - 45s 3s/step - loss: 0.7632 - categorical_accuracy: 0.7106 - val_loss: 0.7376 - val_categorical_accuracy: 0.5786\n",
      "Epoch 39/200\n",
      "16/16 [==============================] - 46s 3s/step - loss: 0.7602 - categorical_accuracy: 0.7334 - val_loss: 0.7401 - val_categorical_accuracy: 0.6380\n",
      "Epoch 40/200\n",
      "16/16 [==============================] - 46s 3s/step - loss: 0.7485 - categorical_accuracy: 0.7512 - val_loss: 0.7356 - val_categorical_accuracy: 0.5964\n",
      "Epoch 41/200\n",
      "16/16 [==============================] - 45s 3s/step - loss: 0.7665 - categorical_accuracy: 0.7096 - val_loss: 0.7210 - val_categorical_accuracy: 0.6706\n",
      "Epoch 42/200\n",
      "16/16 [==============================] - 45s 3s/step - loss: 0.7267 - categorical_accuracy: 0.7532 - val_loss: 0.6695 - val_categorical_accuracy: 0.8190\n",
      "Epoch 43/200\n",
      "16/16 [==============================] - 46s 3s/step - loss: 0.7119 - categorical_accuracy: 0.7740 - val_loss: 0.7617 - val_categorical_accuracy: 0.5193\n",
      "Epoch 44/200\n",
      "16/16 [==============================] - 46s 3s/step - loss: 0.7177 - categorical_accuracy: 0.7582 - val_loss: 0.8950 - val_categorical_accuracy: 0.5045\n",
      "Epoch 45/200\n",
      "16/16 [==============================] - 46s 3s/step - loss: 0.7899 - categorical_accuracy: 0.6541 - val_loss: 0.6993 - val_categorical_accuracy: 0.7923\n",
      "Epoch 46/200\n",
      "16/16 [==============================] - 49s 3s/step - loss: 0.7370 - categorical_accuracy: 0.7066 - val_loss: 0.6793 - val_categorical_accuracy: 0.7953\n",
      "Epoch 47/200\n",
      "16/16 [==============================] - 46s 3s/step - loss: 0.6914 - categorical_accuracy: 0.7701 - val_loss: 0.6178 - val_categorical_accuracy: 0.8249\n",
      "Epoch 48/200\n",
      "16/16 [==============================] - 46s 3s/step - loss: 0.6595 - categorical_accuracy: 0.7909 - val_loss: 0.6254 - val_categorical_accuracy: 0.7656\n",
      "Epoch 49/200\n",
      "16/16 [==============================] - 46s 3s/step - loss: 0.7107 - categorical_accuracy: 0.7364 - val_loss: 0.7208 - val_categorical_accuracy: 0.6884\n",
      "Epoch 50/200\n",
      "16/16 [==============================] - 45s 3s/step - loss: 0.6420 - categorical_accuracy: 0.7750 - val_loss: 0.5967 - val_categorical_accuracy: 0.8131\n",
      "Epoch 51/200\n",
      "16/16 [==============================] - 46s 3s/step - loss: 0.6669 - categorical_accuracy: 0.7661 - val_loss: 0.6298 - val_categorical_accuracy: 0.7567\n",
      "Epoch 52/200\n",
      "16/16 [==============================] - 45s 3s/step - loss: 0.6515 - categorical_accuracy: 0.7691 - val_loss: 0.5649 - val_categorical_accuracy: 0.8190\n",
      "Epoch 53/200\n",
      "16/16 [==============================] - 45s 3s/step - loss: 0.6109 - categorical_accuracy: 0.8067 - val_loss: 0.5635 - val_categorical_accuracy: 0.7982\n",
      "Epoch 54/200\n",
      "16/16 [==============================] - 46s 3s/step - loss: 0.5821 - categorical_accuracy: 0.8325 - val_loss: 0.6121 - val_categorical_accuracy: 0.7270\n",
      "Epoch 55/200\n",
      "16/16 [==============================] - 45s 3s/step - loss: 0.5927 - categorical_accuracy: 0.8057 - val_loss: 0.5293 - val_categorical_accuracy: 0.8249\n",
      "Epoch 56/200\n",
      "16/16 [==============================] - 45s 3s/step - loss: 0.5511 - categorical_accuracy: 0.8315 - val_loss: 0.5119 - val_categorical_accuracy: 0.8160\n",
      "Epoch 57/200\n",
      "16/16 [==============================] - 46s 3s/step - loss: 0.5586 - categorical_accuracy: 0.8276 - val_loss: 0.5136 - val_categorical_accuracy: 0.8042\n",
      "Epoch 58/200\n",
      "16/16 [==============================] - 46s 3s/step - loss: 0.5198 - categorical_accuracy: 0.8454 - val_loss: 0.4843 - val_categorical_accuracy: 0.8190\n",
      "Epoch 59/200\n",
      "16/16 [==============================] - 46s 3s/step - loss: 0.5455 - categorical_accuracy: 0.8107 - val_loss: 0.5222 - val_categorical_accuracy: 0.8101\n",
      "Epoch 60/200\n",
      "16/16 [==============================] - 46s 3s/step - loss: 0.5262 - categorical_accuracy: 0.8137 - val_loss: 0.4783 - val_categorical_accuracy: 0.8160\n",
      "Epoch 61/200\n",
      "16/16 [==============================] - 44s 3s/step - loss: 0.4901 - categorical_accuracy: 0.8474 - val_loss: 0.4347 - val_categorical_accuracy: 0.8249\n",
      "Epoch 62/200\n",
      "16/16 [==============================] - 42s 3s/step - loss: 0.4619 - categorical_accuracy: 0.8503 - val_loss: 0.4391 - val_categorical_accuracy: 0.8309\n",
      "Epoch 63/200\n",
      "16/16 [==============================] - 42s 3s/step - loss: 0.4686 - categorical_accuracy: 0.8305 - val_loss: 0.4237 - val_categorical_accuracy: 0.8309\n",
      "Epoch 64/200\n",
      "16/16 [==============================] - 42s 3s/step - loss: 0.4536 - categorical_accuracy: 0.8503 - val_loss: 0.4159 - val_categorical_accuracy: 0.8279\n",
      "Epoch 65/200\n",
      "16/16 [==============================] - 42s 3s/step - loss: 0.4284 - categorical_accuracy: 0.8484 - val_loss: 0.4601 - val_categorical_accuracy: 0.8338\n",
      "Epoch 66/200\n",
      "16/16 [==============================] - 42s 3s/step - loss: 0.4032 - categorical_accuracy: 0.8712 - val_loss: 0.3501 - val_categorical_accuracy: 0.8338\n",
      "Epoch 67/200\n",
      "16/16 [==============================] - 42s 3s/step - loss: 0.3880 - categorical_accuracy: 0.8722 - val_loss: 0.3597 - val_categorical_accuracy: 0.8427\n",
      "Epoch 68/200\n",
      "16/16 [==============================] - 387s 26s/step - loss: 0.3804 - categorical_accuracy: 0.8731 - val_loss: 0.3294 - val_categorical_accuracy: 0.8932\n",
      "Epoch 69/200\n",
      "16/16 [==============================] - 53s 3s/step - loss: 0.3834 - categorical_accuracy: 0.8840 - val_loss: 0.3810 - val_categorical_accuracy: 0.8783\n",
      "Epoch 70/200\n",
      "16/16 [==============================] - 42s 3s/step - loss: 0.3420 - categorical_accuracy: 0.8930 - val_loss: 0.3293 - val_categorical_accuracy: 0.8605\n",
      "Epoch 71/200\n",
      "16/16 [==============================] - 40s 3s/step - loss: 0.3063 - categorical_accuracy: 0.9148 - val_loss: 0.3421 - val_categorical_accuracy: 0.8279\n",
      "Epoch 72/200\n",
      "16/16 [==============================] - 40s 3s/step - loss: 0.3591 - categorical_accuracy: 0.8801 - val_loss: 0.5382 - val_categorical_accuracy: 0.7596\n",
      "Epoch 73/200\n",
      "16/16 [==============================] - 41s 3s/step - loss: 0.4150 - categorical_accuracy: 0.8583 - val_loss: 0.2729 - val_categorical_accuracy: 0.9080\n",
      "Epoch 74/200\n",
      "16/16 [==============================] - 41s 3s/step - loss: 0.2998 - categorical_accuracy: 0.9158 - val_loss: 0.3060 - val_categorical_accuracy: 0.8457\n",
      "Epoch 75/200\n",
      "16/16 [==============================] - 41s 3s/step - loss: 0.2939 - categorical_accuracy: 0.9217 - val_loss: 0.2584 - val_categorical_accuracy: 0.8635\n",
      "Epoch 76/200\n",
      "16/16 [==============================] - 43s 3s/step - loss: 0.2700 - categorical_accuracy: 0.9286 - val_loss: 0.3182 - val_categorical_accuracy: 0.8368\n",
      "Epoch 77/200\n",
      "16/16 [==============================] - 46s 3s/step - loss: 0.2880 - categorical_accuracy: 0.9197 - val_loss: 0.2746 - val_categorical_accuracy: 0.9347\n",
      "Epoch 78/200\n",
      "16/16 [==============================] - 43s 3s/step - loss: 0.2814 - categorical_accuracy: 0.9108 - val_loss: 0.2592 - val_categorical_accuracy: 0.9466\n",
      "Epoch 79/200\n",
      "16/16 [==============================] - 44s 3s/step - loss: 0.2643 - categorical_accuracy: 0.9118 - val_loss: 0.2688 - val_categorical_accuracy: 0.8398\n",
      "Epoch 80/200\n"
     ]
    },
    {
     "name": "stdout",
     "output_type": "stream",
     "text": [
      "16/16 [==============================] - 44s 3s/step - loss: 0.2588 - categorical_accuracy: 0.9227 - val_loss: 0.6535 - val_categorical_accuracy: 0.6825\n",
      "Epoch 81/200\n",
      "16/16 [==============================] - 45s 3s/step - loss: 0.5051 - categorical_accuracy: 0.7849 - val_loss: 0.2379 - val_categorical_accuracy: 0.9377\n",
      "Epoch 82/200\n",
      "16/16 [==============================] - 45s 3s/step - loss: 0.2958 - categorical_accuracy: 0.9138 - val_loss: 0.2462 - val_categorical_accuracy: 0.8516\n",
      "Epoch 83/200\n",
      "16/16 [==============================] - 46s 3s/step - loss: 0.2637 - categorical_accuracy: 0.9405 - val_loss: 0.2269 - val_categorical_accuracy: 0.9555\n",
      "Epoch 84/200\n",
      "16/16 [==============================] - 46s 3s/step - loss: 0.2349 - categorical_accuracy: 0.9445 - val_loss: 0.2317 - val_categorical_accuracy: 0.9436\n",
      "Epoch 85/200\n",
      "16/16 [==============================] - 45s 3s/step - loss: 0.5039 - categorical_accuracy: 0.8325 - val_loss: 0.4288 - val_categorical_accuracy: 0.8605\n",
      "Epoch 86/200\n",
      "16/16 [==============================] - 45s 3s/step - loss: 0.3449 - categorical_accuracy: 0.9118 - val_loss: 0.2662 - val_categorical_accuracy: 0.9228\n",
      "Epoch 87/200\n",
      "16/16 [==============================] - 45s 3s/step - loss: 0.2450 - categorical_accuracy: 0.9455 - val_loss: 0.1878 - val_categorical_accuracy: 0.9733\n",
      "Epoch 88/200\n",
      "16/16 [==============================] - 46s 3s/step - loss: 0.2258 - categorical_accuracy: 0.9514 - val_loss: 0.2086 - val_categorical_accuracy: 0.9703\n",
      "Epoch 89/200\n",
      "16/16 [==============================] - 45s 3s/step - loss: 0.1973 - categorical_accuracy: 0.9643 - val_loss: 0.2243 - val_categorical_accuracy: 0.9555\n",
      "Epoch 90/200\n",
      "16/16 [==============================] - 45s 3s/step - loss: 0.2137 - categorical_accuracy: 0.9564 - val_loss: 0.2112 - val_categorical_accuracy: 0.9792\n",
      "Epoch 91/200\n",
      "16/16 [==============================] - 46s 3s/step - loss: 0.2013 - categorical_accuracy: 0.9613 - val_loss: 0.2120 - val_categorical_accuracy: 0.9407\n",
      "Epoch 92/200\n",
      "16/16 [==============================] - 44s 3s/step - loss: 0.1866 - categorical_accuracy: 0.9554 - val_loss: 0.1724 - val_categorical_accuracy: 0.9674\n",
      "Epoch 93/200\n",
      "16/16 [==============================] - 42s 3s/step - loss: 0.1635 - categorical_accuracy: 0.9762 - val_loss: 0.1533 - val_categorical_accuracy: 0.9703\n",
      "Epoch 94/200\n",
      "16/16 [==============================] - 46s 3s/step - loss: 0.1430 - categorical_accuracy: 0.9732 - val_loss: 0.1375 - val_categorical_accuracy: 0.9763\n",
      "Epoch 95/200\n",
      "16/16 [==============================] - 45s 3s/step - loss: 0.1411 - categorical_accuracy: 0.9792 - val_loss: 0.1386 - val_categorical_accuracy: 0.9763\n",
      "Epoch 96/200\n",
      "16/16 [==============================] - 45s 3s/step - loss: 0.1319 - categorical_accuracy: 0.9802 - val_loss: 0.1510 - val_categorical_accuracy: 0.9733\n",
      "Epoch 97/200\n",
      "16/16 [==============================] - 45s 3s/step - loss: 0.1331 - categorical_accuracy: 0.9822 - val_loss: 0.1346 - val_categorical_accuracy: 0.9763\n",
      "Epoch 98/200\n",
      "16/16 [==============================] - 46s 3s/step - loss: 0.1258 - categorical_accuracy: 0.9871 - val_loss: 0.1461 - val_categorical_accuracy: 0.9733\n",
      "Epoch 99/200\n",
      "16/16 [==============================] - 48s 3s/step - loss: 0.1375 - categorical_accuracy: 0.9782 - val_loss: 0.1379 - val_categorical_accuracy: 0.9703\n",
      "Epoch 100/200\n",
      "16/16 [==============================] - 46s 3s/step - loss: 0.1242 - categorical_accuracy: 0.9812 - val_loss: 0.1519 - val_categorical_accuracy: 0.9792\n",
      "Epoch 101/200\n",
      "16/16 [==============================] - 45s 3s/step - loss: 0.1274 - categorical_accuracy: 0.9762 - val_loss: 0.1734 - val_categorical_accuracy: 0.9585\n",
      "Epoch 102/200\n",
      "16/16 [==============================] - 45s 3s/step - loss: 0.1765 - categorical_accuracy: 0.9475 - val_loss: 0.1548 - val_categorical_accuracy: 0.9555\n",
      "Epoch 103/200\n",
      "16/16 [==============================] - 45s 3s/step - loss: 0.2466 - categorical_accuracy: 0.9148 - val_loss: 0.1617 - val_categorical_accuracy: 0.9703\n",
      "Epoch 104/200\n",
      "16/16 [==============================] - 46s 3s/step - loss: 0.1713 - categorical_accuracy: 0.9584 - val_loss: 0.1053 - val_categorical_accuracy: 0.9733\n",
      "Epoch 105/200\n",
      "16/16 [==============================] - 45s 3s/step - loss: 0.1284 - categorical_accuracy: 0.9742 - val_loss: 0.1208 - val_categorical_accuracy: 0.9674\n",
      "Epoch 106/200\n",
      "16/16 [==============================] - 45s 3s/step - loss: 0.1157 - categorical_accuracy: 0.9851 - val_loss: 0.1150 - val_categorical_accuracy: 0.9733\n",
      "Epoch 107/200\n",
      "16/16 [==============================] - 43s 3s/step - loss: 0.1121 - categorical_accuracy: 0.9792 - val_loss: 0.1600 - val_categorical_accuracy: 0.9466\n",
      "Epoch 108/200\n",
      "16/16 [==============================] - 42s 3s/step - loss: 0.1193 - categorical_accuracy: 0.9752 - val_loss: 0.1225 - val_categorical_accuracy: 0.9703\n",
      "Epoch 109/200\n",
      "16/16 [==============================] - 42s 3s/step - loss: 0.0967 - categorical_accuracy: 0.9832 - val_loss: 0.1256 - val_categorical_accuracy: 0.9733\n",
      "Epoch 110/200\n",
      "16/16 [==============================] - 41s 3s/step - loss: 0.0897 - categorical_accuracy: 0.9891 - val_loss: 0.1391 - val_categorical_accuracy: 0.9555\n",
      "Epoch 111/200\n",
      "16/16 [==============================] - 45s 3s/step - loss: 0.0955 - categorical_accuracy: 0.9841 - val_loss: 0.0965 - val_categorical_accuracy: 0.9792\n",
      "Epoch 112/200\n",
      "16/16 [==============================] - 44s 3s/step - loss: 0.0826 - categorical_accuracy: 0.9871 - val_loss: 0.1096 - val_categorical_accuracy: 0.9733\n",
      "Epoch 113/200\n",
      "16/16 [==============================] - 44s 3s/step - loss: 0.1265 - categorical_accuracy: 0.9732 - val_loss: 0.1483 - val_categorical_accuracy: 0.9496\n",
      "Epoch 114/200\n",
      "16/16 [==============================] - 48s 3s/step - loss: 0.6753 - categorical_accuracy: 0.7552 - val_loss: 0.6242 - val_categorical_accuracy: 0.5490\n",
      "Epoch 115/200\n",
      "16/16 [==============================] - 46s 3s/step - loss: 0.3916 - categorical_accuracy: 0.8741 - val_loss: 0.2408 - val_categorical_accuracy: 0.9228\n",
      "Epoch 116/200\n",
      "16/16 [==============================] - 45s 3s/step - loss: 0.2249 - categorical_accuracy: 0.9366 - val_loss: 0.3444 - val_categorical_accuracy: 0.8368\n",
      "Epoch 117/200\n",
      "16/16 [==============================] - 46s 3s/step - loss: 0.1759 - categorical_accuracy: 0.9475 - val_loss: 0.2239 - val_categorical_accuracy: 0.9466\n",
      "Epoch 118/200\n",
      "16/16 [==============================] - 45s 3s/step - loss: 0.1641 - categorical_accuracy: 0.9514 - val_loss: 0.1193 - val_categorical_accuracy: 0.9703\n",
      "Epoch 119/200\n",
      "16/16 [==============================] - 49s 3s/step - loss: 0.1268 - categorical_accuracy: 0.9693 - val_loss: 0.4191 - val_categorical_accuracy: 0.8487\n",
      "Epoch 120/200\n",
      "16/16 [==============================] - 46s 3s/step - loss: 0.1271 - categorical_accuracy: 0.9663 - val_loss: 0.1007 - val_categorical_accuracy: 0.9703\n",
      "Epoch 121/200\n",
      "16/16 [==============================] - 46s 3s/step - loss: 0.0847 - categorical_accuracy: 0.9832 - val_loss: 0.1197 - val_categorical_accuracy: 0.9644\n",
      "11/11 [==============================] - 8s 421ms/step - loss: 0.0786 - categorical_accuracy: 0.9852\n"
     ]
    },
    {
     "data": {
      "text/plain": [
       "[0.0785941630601883, 0.9851632118225098]"
      ]
     },
     "execution_count": 16,
     "metadata": {},
     "output_type": "execute_result"
    }
   ],
   "source": [
    "def transformer_encoder(inputs, head_size, num_heads, ff_dim, dropout=0):\n",
    "    x = MultiHeadAttention(\n",
    "        key_dim=head_size, num_heads=num_heads, dropout=dropout\n",
    "    )(inputs, inputs)\n",
    "    x = Dropout(dropout)(x)\n",
    "    x = LayerNormalization(epsilon=1e-6)(x)\n",
    "    res = x + inputs\n",
    "\n",
    "    x = Conv1D(filters=ff_dim, kernel_size=3, activation=\"relu\", padding=\"same\")(res)\n",
    "    x = Dropout(dropout)(x)\n",
    "    x = Conv1D(filters=inputs.shape[-1], kernel_size=3, padding=\"same\")(x)\n",
    "    x = LayerNormalization(epsilon=1e-6)(x)\n",
    "    return x + res\n",
    "\n",
    "def build_model(\n",
    "    input_shape,\n",
    "    head_size,\n",
    "    num_heads,\n",
    "    ff_dim,\n",
    "    num_transformer_blocks,\n",
    "    mlp_units,\n",
    "    dropout=0,\n",
    "    mlp_dropout=0,\n",
    "):\n",
    "    inputs = Input(shape=input_shape)\n",
    "    x = inputs\n",
    "    x = Conv1D(filters=128, kernel_size=3, activation=\"relu\")(x)\n",
    "    x = Conv1D(filters=128, kernel_size=3, activation=\"relu\")(x)\n",
    "    x = MaxPooling1D(pool_size=2)(x)\n",
    "    for _ in range(num_transformer_blocks):\n",
    "        x = transformer_encoder(x, head_size, num_heads, ff_dim, dropout)\n",
    "    x = GlobalAveragePooling1D(data_format=\"channels_first\")(x)\n",
    "    for dim in mlp_units:\n",
    "        x = Dense(dim, activation=\"relu\")(x)\n",
    "        x = Dropout(mlp_dropout)(x)\n",
    "    outputs = Dense(4, activation=\"softmax\")(x)\n",
    "    return Model(inputs, outputs)\n",
    "\n",
    "input_shape = x_train.shape[1:]\n",
    "\n",
    "model = build_model(\n",
    "    input_shape,\n",
    "    head_size=256,\n",
    "    num_heads=8,\n",
    "    ff_dim=256,\n",
    "    num_transformer_blocks=4,\n",
    "    mlp_units=[128],\n",
    "    mlp_dropout=0.4,\n",
    "    dropout=0.4,\n",
    ")\n",
    "\n",
    "model.compile(\n",
    "    loss=\"categorical_crossentropy\",\n",
    "    optimizer=Adam(learning_rate=1e-4),\n",
    "    metrics=[\"categorical_accuracy\"],\n",
    ")\n",
    "\n",
    "model.summary()\n",
    "\n",
    "callbacks = [EarlyStopping(patience=10, restore_best_weights=True)]\n",
    "\n",
    "history = model.fit(\n",
    "    x_train,\n",
    "    y_train,\n",
    "    validation_data=(x_val, y_val),\n",
    "    epochs=200,\n",
    "    batch_size=64,\n",
    "    callbacks=callbacks,\n",
    ")\n",
    "model.evaluate(x_test, y_test, verbose=1)"
   ]
  },
  {
   "cell_type": "code",
   "execution_count": 17,
   "id": "e1750777",
   "metadata": {},
   "outputs": [
    {
     "data": {
      "text/plain": [
       "(0.084652379155159, 0.11966405063867569)"
      ]
     },
     "execution_count": 17,
     "metadata": {},
     "output_type": "execute_result"
    }
   ],
   "source": [
    "history.history[\"loss\"][-1], history.history[\"val_loss\"][-1]"
   ]
  },
  {
   "cell_type": "code",
   "execution_count": 18,
   "id": "d18f63d3",
   "metadata": {},
   "outputs": [
    {
     "data": {
      "text/plain": [
       "<AxesSubplot: >"
      ]
     },
     "execution_count": 18,
     "metadata": {},
     "output_type": "execute_result"
    },
    {
     "data": {
      "image/png": "[encoded data removed]",
      "text/plain": [
       "<Figure size 640x480 with 1 Axes>"
      ]
     },
     "metadata": {},
     "output_type": "display_data"
    }
   ],
   "source": [
    "pd.DataFrame(history.history).plot()"
   ]
  },
  {
   "cell_type": "code",
   "execution_count": 29,
   "id": "da89cf5f",
   "metadata": {},
   "outputs": [
    {
     "data": {
      "text/plain": [
       "(337, 100, 256)"
      ]
     },
     "execution_count": 29,
     "metadata": {},
     "output_type": "execute_result"
    }
   ],
   "source": [
    "x_test.shape"
   ]
  },
  {
   "cell_type": "code",
   "execution_count": 19,
   "id": "bea29442",
   "metadata": {},
   "outputs": [
    {
     "name": "stdout",
     "output_type": "stream",
     "text": [
      "11/11 [==============================] - 11s 461ms/step\n"
     ]
    }
   ],
   "source": [
    "y_pred = model.predict(x_test)"
   ]
  },
  {
   "cell_type": "code",
   "execution_count": 33,
   "id": "a4f3a9ce",
   "metadata": {},
   "outputs": [],
   "source": [
    "y_test_single = np.argmax(y_test, axis=1)\n",
    "y_pred_single = np.argmax(y_pred, axis=1)"
   ]
  },
  {
   "cell_type": "code",
   "execution_count": 34,
   "id": "6377b8d3",
   "metadata": {},
   "outputs": [],
   "source": [
    "targets = [\"static\", \"standing\", \"walking\", \"falling\"]"
   ]
  },
  {
   "cell_type": "code",
   "execution_count": 35,
   "id": "7a66677a",
   "metadata": {},
   "outputs": [
    {
     "name": "stdout",
     "output_type": "stream",
     "text": [
      "[[109   0   1   0]\n",
      " [  0  57   1   0]\n",
      " [  0   3 107   0]\n",
      " [  0   0   0  59]]\n",
      "              precision    recall  f1-score   support\n",
      "\n",
      "      static       1.00      0.99      1.00       110\n",
      "    standing       0.95      0.98      0.97        58\n",
      "     walking       0.98      0.97      0.98       110\n",
      "     falling       1.00      1.00      1.00        59\n",
      "\n",
      "    accuracy                           0.99       337\n",
      "   macro avg       0.98      0.99      0.98       337\n",
      "weighted avg       0.99      0.99      0.99       337\n",
      "\n"
     ]
    }
   ],
   "source": [
    "print(confusion_matrix(y_test_single, y_pred_single))\n",
    "print(classification_report(y_test_single, y_pred_single, target_names=targets))"
   ]
  },
  {
   "cell_type": "code",
   "execution_count": 37,
   "id": "85dd4b84",
   "metadata": {},
   "outputs": [
    {
     "data": {
      "text/plain": [
       "<AxesSubplot: >"
      ]
     },
     "execution_count": 37,
     "metadata": {},
     "output_type": "execute_result"
    },
    {
     "data": {
      "image/png": "[encoded data removed]",
      "text/plain": [
       "<Figure size 640x480 with 2 Axes>"
      ]
     },
     "metadata": {},
     "output_type": "display_data"
    }
   ],
   "source": [
    "seaborn.heatmap(confusion_matrix(y_val_single, y_pred_single), fmt='g', annot=True, cmap='Blues', xticklabels=targets, yticklabels=targets)"
   ]
  },
  {
   "cell_type": "code",
   "execution_count": 38,
   "id": "214508f5",
   "metadata": {},
   "outputs": [],
   "source": [
    "model.save(\"current_best_network.h5\")"
   ]
  },
  {
   "cell_type": "code",
   "execution_count": null,
   "id": "26a0a829",
   "metadata": {},
   "outputs": [],
   "source": [
    "# x_all = loadFromDat(f\"./{test_dir}/falling.pcap\")"
   ]
  }
 ],
 "metadata": {
  "kernelspec": {
   "display_name": "Python 3 (ipykernel)",
   "language": "python",
   "name": "python3"
  },
  "language_info": {
   "codemirror_mode": {
    "name": "ipython",
    "version": 3
   },
   "file_extension": ".py",
   "mimetype": "text/x-python",
   "name": "python",
   "nbconvert_exporter": "python",
   "pygments_lexer": "ipython3",
   "version": "3.10.7"
  }
 },
 "nbformat": 4,
 "nbformat_minor": 5
}
