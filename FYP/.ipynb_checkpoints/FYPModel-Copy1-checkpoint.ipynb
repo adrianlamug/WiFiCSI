{
 "cells": [
  {
   "cell_type": "code",
   "execution_count": 2,
   "id": "ec7063f8",
   "metadata": {},
   "outputs": [],
   "source": [
    "from decoders.interleaved import read_pcap\n",
    "from utils.matlab import db\n",
    "from tensorflow.keras import Model\n",
    "from tensorflow.keras import Input\n",
    "from tensorflow.keras.layers import Rescaling\n",
    "from tensorflow.keras.layers import Dropout\n",
    "from tensorflow.keras.layers import Dense\n",
    "from tensorflow.keras.layers import Conv1D\n",
    "from tensorflow.keras.layers import MaxPooling1D\n",
    "from tensorflow.keras.layers import Flatten\n",
    "from tensorflow.keras.layers import LSTM\n",
    "from tensorflow.keras.layers import GlobalAveragePooling1D\n",
    "from tensorflow.keras.models import Sequential\n",
    "from tensorflow.keras.layers import LayerNormalization\n",
    "from tensorflow.keras.layers import MultiHeadAttention\n",
    "import glob\n",
    "from numpy import inf\n",
    "from tensorflow.keras.layers import Bidirectional\n",
    "import pandas as pd\n",
    "import numpy as np\n",
    "from tensorflow.keras.optimizers import RMSprop, Adam\n",
    "from tensorflow.keras.callbacks import EarlyStopping\n",
    "import os\n",
    "import matplotlib.pyplot as plt\n",
    "from sklearn.metrics import confusion_matrix, classification_report\n",
    "from sklearn.model_selection import train_test_split, StratifiedKFold\n",
    "\n",
    "from scipy.interpolate import interp1d"
   ]
  },
  {
   "cell_type": "code",
   "execution_count": null,
   "id": "250459f3",
   "metadata": {},
   "outputs": [],
   "source": [
    "from transformers import TFBertModel, BertTokenizer, TFBertForSequenceClassification\n",
    "import seaborn "
   ]
  },
  {
   "cell_type": "code",
   "execution_count": 26,
   "id": "b421b24c",
   "metadata": {},
   "outputs": [],
   "source": [
    "# from transformers import BertModel, BertConfig"
   ]
  },
  {
   "cell_type": "code",
   "execution_count": 3,
   "id": "b7a521ed",
   "metadata": {},
   "outputs": [],
   "source": [
    "base_dir = \".\"\n",
    "dataset_dir = os.path.join(\"data\")\n",
    "test_dir = os.path.join(\"generated/data\")"
   ]
  },
  {
   "cell_type": "code",
   "execution_count": 4,
   "id": "825233cc",
   "metadata": {},
   "outputs": [],
   "source": [
    "FS = 100\n",
    "ALL_ACTIVITIES = [\"static\", \"standing\", \"walking\", \"falling\"]\n",
    "# ALL_ACTIVITIES = [\"nothing\", \"standup\", \"sitdown\", \"getintobed\", \"cook\", \"washingdishes\", \"brushteeth\", \"drink\", \"petcat\", \"sleeping\", \"walk\"]"
   ]
  },
  {
   "cell_type": "code",
   "execution_count": 5,
   "id": "f082136b",
   "metadata": {},
   "outputs": [],
   "source": [
    "def loadFromDat(inputFile, windowSize = FS, step = 50):\n",
    "#     print(int((csi_data.nsamples-1)*(100/average_sample_rate)+1))\n",
    "    \n",
    "    csi_data = read_pcap(inputFile)\n",
    "    csi = csi_data.csi\n",
    "    \n",
    "    first_timestamp = float(csi_data.timestamps[0])\n",
    "    last_timestamp = float(csi_data.timestamps[-1])\n",
    "    final_timestamp = last_timestamp-first_timestamp\n",
    "    average_sample_rate = csi_data.nsamples/final_timestamp\n",
    "    \n",
    "    interp_func=interp1d(csi_data.timestamps, csi_data.csi, kind='linear', axis=0, fill_value=\"extrapolate\")\n",
    "    t_new = np.linspace(first_timestamp, last_timestamp, (csi_data.nsamples-1)*int((100/average_sample_rate)+1))\n",
    "    csi_interp = interp_func(t_new)\n",
    "    csi=csi_interp\n",
    "    \n",
    "    csi = db(np.abs(csi))\n",
    "    finalData = csi[:, :, 0]\n",
    "    finalData = np.transpose(finalData)\n",
    "    \n",
    "#     cutoff_frequency = 30  # in Hz, adjust based on your analysis\n",
    "#     sampling_frequency = 100  # in Hz\n",
    "\n",
    "#     # Apply the filter to your dataset\n",
    "#     filtered_data = np.apply_along_axis(\n",
    "#         lowpass_filter,\n",
    "#         axis=1,\n",
    "#         arr=finalData,\n",
    "#         cutoff=cutoff_frequency,\n",
    "#         fs=sampling_frequency\n",
    "#     )\n",
    "    \n",
    "    new_average_sample_rate = len(csi_interp)/final_timestamp\n",
    "    \n",
    "    if new_average_sample_rate > FS:\n",
    "        downsample_factor = int(new_average_sample_rate/FS)\n",
    "        csi = csi[::downsample_factor]\n",
    "    index = 0\n",
    "    positiveInput = []\n",
    "    \n",
    "    while index + windowSize <= csi.shape[0]:\n",
    "        curFeature = np.zeros((1, windowSize, 256))\n",
    "        curFeature[0] = csi[index:index+windowSize, :].reshape(FS,256)\n",
    "        positiveInput.append(curFeature)\n",
    "        index += step\n",
    "    try:\n",
    "        positiveInput = np.concatenate(positiveInput, axis = 0)\n",
    "    except ValueError as e:\n",
    "        positiveInput = np.zeros((1, windowSize, 256))\n",
    "    positiveInput[positiveInput == -inf] = 0\n",
    "    \n",
    "    return positiveInput"
   ]
  },
  {
   "cell_type": "code",
   "execution_count": null,
   "id": "e4ed9a76",
   "metadata": {},
   "outputs": [],
   "source": [
    "# from scipy import signal\n",
    "# from scipy.signal import butter, filtfilt\n",
    "\n",
    "# def butter_lowpass(cutoff, fs, order=5):\n",
    "#     nyq = 0.5 * fs\n",
    "#     normal_cutoff = cutoff / nyq\n",
    "#     b, a = butter(order, normal_cutoff, btype='low', analog=False)\n",
    "#     return b, a\n",
    "\n",
    "# # Apply the low-pass filter to the data\n",
    "# def lowpass_filter(data, cutoff, fs, order=5):\n",
    "#     b, a = butter_lowpass(cutoff, fs, order=order)\n",
    "#     filtered_data = filtfilt(b, a, data)\n",
    "#     return filtered_data"
   ]
  },
  {
   "cell_type": "code",
   "execution_count": 6,
   "id": "c9c1c688",
   "metadata": {},
   "outputs": [],
   "source": [
    "def loadByActivityLabel(directory, activity, activities=ALL_ACTIVITIES, windowSize=FS, step = 50, downsample=1):\n",
    "    activity = activity.lower()\n",
    "    print(activity)\n",
    "    if activity not in activities:\n",
    "        print(\"invalid activity: \" + activity)\n",
    "    \n",
    "    dataPathPattern = os.path.join(directory,\"{}*.pcap\".format(activity))\n",
    "    inputFiles = sorted(glob.glob(dataPathPattern, recursive =True))\n",
    "    inputWindows = []\n",
    "    index = 0\n",
    "    for inputFile in inputFiles:\n",
    "        index += 1\n",
    "        csiOutput = loadFromDat(inputFile, windowSize = windowSize, step=step)\n",
    "        if csiOutput is not None:\n",
    "            inputWindows.append(csiOutput)\n",
    "    inputArray = np.concatenate(inputWindows, axis = 0)\n",
    "    outputLabels = np.zeros((inputArray.shape[0], len(activities)))\n",
    "    outputLabels[:, activities.index(activity)] = 1\n",
    "    return inputArray, outputLabels\n"
   ]
  },
  {
   "cell_type": "code",
   "execution_count": 7,
   "id": "28f356e0",
   "metadata": {},
   "outputs": [],
   "source": [
    "def loadDataForActivities(directory, activities=ALL_ACTIVITIES, windowSize=FS, step=50, downsample=1):\n",
    "    x_all = []\n",
    "    y_all = []\n",
    "    for activity in activities:\n",
    "        inputArray, outputLabels = loadByActivityLabel(directory, activity, activities, windowSize=windowSize, step=step, downsample=downsample)\n",
    "        x_all.append(inputArray)\n",
    "        y_all.append(outputLabels)\n",
    "    x_all = np.concatenate(x_all, axis=0)\n",
    "    y_all = np.concatenate(y_all, axis=0)\n",
    "    return (x_all, y_all)"
   ]
  },
  {
   "cell_type": "code",
   "execution_count": 8,
   "id": "bb38762c",
   "metadata": {},
   "outputs": [
    {
     "name": "stdout",
     "output_type": "stream",
     "text": [
      "static\n",
      "standing\n",
      "walking\n",
      "falling\n"
     ]
    }
   ],
   "source": [
    "x_all, y_all = loadDataForActivities(dataset_dir, downsample=1)"
   ]
  },
  {
   "cell_type": "code",
   "execution_count": 9,
   "id": "c98a4d1b",
   "metadata": {},
   "outputs": [],
   "source": [
    "# Split off the test set: 20% of the dataset.\n",
    "x_dev, x_test, y_dev, y_train = train_test_split(x_all, y_all, stratify=y_all, train_size=0.8, random_state=42)\n",
    "\n",
    "# Split the temporary set into validation and test sets (50% validation, 50% test)\n",
    "x_train, x_val, y_train, y_val = train_test_split(x_dev, y_dev, stratify=y_dev, train_size=0.75, random_state=42)"
   ]
  },
  {
   "cell_type": "code",
   "execution_count": 10,
   "id": "2e0c9bb8",
   "metadata": {},
   "outputs": [],
   "source": [
    "batch_size = 256\n",
    "epochs = 100\n",
    "\n",
    "f1s = []\n",
    "confs = []\n",
    "y_val_total = np.array([])\n",
    "y_pred_total = np.array([])"
   ]
  },
  {
   "cell_type": "markdown",
   "id": "a8ac2283",
   "metadata": {},
   "source": [
    "<h1> Models </h1>"
   ]
  },
  {
   "cell_type": "code",
   "execution_count": null,
   "id": "0936fc45",
   "metadata": {},
   "outputs": [],
   "source": [
    "# Transformer Model"
   ]
  },
  {
   "cell_type": "code",
   "execution_count": null,
   "id": "884430f3",
   "metadata": {},
   "outputs": [],
   "source": [
    "def transformer_encoder(inputs, head_size, num_heads, ff_dim, dropout=0):\n",
    "    x = MultiHeadAttention(\n",
    "        key_dim=head_size, num_heads=num_heads, dropout=dropout\n",
    "    )(inputs, inputs)\n",
    "    x = Dropout(dropout)(x)\n",
    "    x = LayerNormalization(epsilon=1e-6)(x)\n",
    "    res = x + inputs\n",
    "\n",
    "    x = Conv1D(filters=ff_dim, kernel_size=3, activation=\"relu\", padding=\"same\")(res)\n",
    "    x = Dropout(dropout)(x)\n",
    "    x = Conv1D(filters=inputs.shape[-1], kernel_size=3, padding=\"same\")(x)\n",
    "    x = LayerNormalization(epsilon=1e-6)(x)\n",
    "    return x + res\n",
    "\n",
    "def build_model(\n",
    "    input_shape,\n",
    "    head_size,\n",
    "    num_heads,\n",
    "    ff_dim,\n",
    "    num_transformer_blocks,\n",
    "    mlp_units,\n",
    "    dropout=0,\n",
    "    mlp_dropout=0,\n",
    "):\n",
    "    inputs = Input(shape=input_shape)\n",
    "    x = inputs\n",
    "    x = Conv1D(filters=128, kernel_size=3, activation=\"relu\")(x)\n",
    "    x = Conv1D(filters=128, kernel_size=3, activation=\"relu\")(x)\n",
    "    x = MaxPooling1D(pool_size=2)(x)\n",
    "    for _ in range(num_transformer_blocks):\n",
    "        x = transformer_encoder(x, head_size, num_heads, ff_dim, dropout)\n",
    "    x = GlobalAveragePooling1D(data_format=\"channels_first\")(x)\n",
    "    for dim in mlp_units:\n",
    "        x = Dense(dim, activation=\"relu\")(x)\n",
    "        x = Dropout(mlp_dropout)(x)\n",
    "    outputs = Dense(4, activation=\"softmax\")(x)\n",
    "    return Model(inputs, outputs)\n",
    "\n",
    "input_shape = x_train.shape[1:]\n",
    "\n",
    "model = build_model(\n",
    "    input_shape,\n",
    "    head_size=256,\n",
    "    num_heads=8,\n",
    "    ff_dim=256,\n",
    "    num_transformer_blocks=4,\n",
    "    mlp_units=[128],\n",
    "    mlp_dropout=0.4,\n",
    "    dropout=0.4,\n",
    ")\n",
    "\n",
    "model.compile(\n",
    "    loss=\"categorical_crossentropy\",\n",
    "    optimizer=Adam(learning_rate=1e-4),\n",
    "    metrics=[\"categorical_accuracy\"],\n",
    ")\n",
    "\n",
    "model.summary()\n",
    "\n",
    "callbacks = [EarlyStopping(patience=10, restore_best_weights=True)]\n",
    "\n",
    "history = model.fit(\n",
    "    x_train,\n",
    "    y_train,\n",
    "    validation_data=(x_val, y_val),\n",
    "    epochs=200,\n",
    "    batch_size=64,\n",
    "    callbacks=callbacks,\n",
    ")\n",
    "model.evaluate(x_test, y_test, verbose=1)"
   ]
  },
  {
   "cell_type": "code",
   "execution_count": 13,
   "id": "e1750777",
   "metadata": {},
   "outputs": [
    {
     "data": {
      "text/plain": [
       "(0.33762994408607483, 0.2573854923248291)"
      ]
     },
     "execution_count": 13,
     "metadata": {},
     "output_type": "execute_result"
    }
   ],
   "source": [
    "history.history[\"loss\"][-1], history.history[\"val_loss\"][-1]"
   ]
  },
  {
   "cell_type": "code",
   "execution_count": 15,
   "id": "d18f63d3",
   "metadata": {},
   "outputs": [
    {
     "data": {
      "text/plain": [
       "<AxesSubplot: >"
      ]
     },
     "execution_count": 15,
     "metadata": {},
     "output_type": "execute_result"
    },
    {
     "data": {
      "image/png": "[encoded data removed]",
      "text/plain": [
       "<Figure size 640x480 with 1 Axes>"
      ]
     },
     "metadata": {},
     "output_type": "display_data"
    }
   ],
   "source": [
    "pd.DataFrame(history.history).plot()"
   ]
  },
  {
   "cell_type": "code",
   "execution_count": 16,
   "id": "bea29442",
   "metadata": {},
   "outputs": [
    {
     "name": "stdout",
     "output_type": "stream",
     "text": [
      "11/11 [==============================] - 2s 181ms/step\n"
     ]
    }
   ],
   "source": [
    "y_pred = model.predict(x_val)"
   ]
  },
  {
   "cell_type": "code",
   "execution_count": 17,
   "id": "a4f3a9ce",
   "metadata": {},
   "outputs": [],
   "source": [
    "y_val_single = np.argmax(y_val, axis=1)\n",
    "y_pred_single = np.argmax(y_pred, axis=1)"
   ]
  },
  {
   "cell_type": "code",
   "execution_count": 26,
   "id": "6377b8d3",
   "metadata": {},
   "outputs": [],
   "source": [
    "targets = [\"static\", \"standing\", \"walking\", \"falling\"]"
   ]
  },
  {
   "cell_type": "code",
   "execution_count": 27,
   "id": "7a66677a",
   "metadata": {},
   "outputs": [
    {
     "name": "stdout",
     "output_type": "stream",
     "text": [
      "[[110   0   0   0]\n",
      " [  0  57   1   0]\n",
      " [  0   2 108   0]\n",
      " [  0   0   0  59]]\n",
      "              precision    recall  f1-score   support\n",
      "\n",
      "      static       1.00      1.00      1.00       110\n",
      "    standing       0.97      0.98      0.97        58\n",
      "     walking       0.99      0.98      0.99       110\n",
      "     falling       1.00      1.00      1.00        59\n",
      "\n",
      "    accuracy                           0.99       337\n",
      "   macro avg       0.99      0.99      0.99       337\n",
      "weighted avg       0.99      0.99      0.99       337\n",
      "\n"
     ]
    }
   ],
   "source": [
    "print(confusion_matrix(y_val_single, y_pred_single))\n",
    "print(classification_report(y_val_single, y_pred_single, target_names=targets))"
   ]
  },
  {
   "cell_type": "code",
   "execution_count": 29,
   "id": "85dd4b84",
   "metadata": {},
   "outputs": [
    {
     "data": {
      "text/plain": [
       "<AxesSubplot: >"
      ]
     },
     "execution_count": 29,
     "metadata": {},
     "output_type": "execute_result"
    },
    {
     "data": {
      "image/png": "[encoded data removed]",
      "text/plain": [
       "<Figure size 640x480 with 2 Axes>"
      ]
     },
     "metadata": {},
     "output_type": "display_data"
    }
   ],
   "source": [
    "seaborn.heatmap(confusion_matrix(y_val_single, y_pred_single), fmt='g', annot=True, cmap='Blues', xticklabels=targets, yticklabels=targets)"
   ]
  },
  {
   "cell_type": "code",
   "execution_count": 50,
   "id": "214508f5",
   "metadata": {},
   "outputs": [],
   "source": [
    "model.save(\"current_best_network.h5\")"
   ]
  },
  {
   "cell_type": "code",
   "execution_count": null,
   "id": "26a0a829",
   "metadata": {},
   "outputs": [],
   "source": [
    "# x_all = loadFromDat(f\"./{test_dir}/falling.pcap\")"
   ]
  }
 ],
 "metadata": {
  "kernelspec": {
   "display_name": "Python 3 (ipykernel)",
   "language": "python",
   "name": "python3"
  },
  "language_info": {
   "codemirror_mode": {
    "name": "ipython",
    "version": 3
   },
   "file_extension": ".py",
   "mimetype": "text/x-python",
   "name": "python",
   "nbconvert_exporter": "python",
   "pygments_lexer": "ipython3",
   "version": "3.10.7"
  }
 },
 "nbformat": 4,
 "nbformat_minor": 5
}
